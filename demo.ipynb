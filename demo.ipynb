{
 "cells": [
  {
   "cell_type": "code",
   "execution_count": 139,
   "metadata": {},
   "outputs": [],
   "source": [
    "from selenium import webdriver\n",
    "from selenium.webdriver.common.by import By\n",
    "from selenium.webdriver.common.keys import Keys\n",
    "from selenium.webdriver.chrome.service import Service\n",
    "from selenium.webdriver.support.ui import WebDriverWait\n",
    "from selenium.webdriver.remote.webdriver import WebDriver\n",
    "from selenium.webdriver.remote.webelement import WebElement\n",
    "from selenium.webdriver.support import expected_conditions as EC\n",
    "from selenium.webdriver.edge.service import Service as EdgeService\n",
    "from webdriver_manager.microsoft import EdgeChromiumDriverManager"
   ]
  },
  {
   "cell_type": "code",
   "execution_count": 140,
   "metadata": {},
   "outputs": [],
   "source": [
    "service = Service()\n",
    "options = webdriver.ChromeOptions()\n",
    "driver = webdriver.Chrome(service=service, options=options)"
   ]
  },
  {
   "cell_type": "code",
   "execution_count": 141,
   "metadata": {},
   "outputs": [],
   "source": [
    "driver.get(\"https://batdongsan.vn\")"
   ]
  },
  {
   "cell_type": "code",
   "execution_count": 142,
   "metadata": {},
   "outputs": [],
   "source": [
    "def wait_element(driver: WebDriver, timeout: int, key: str, by: str) -> WebElement:\n",
    "    if by.lower() == \"id\":\n",
    "        condition = EC.presence_of_element_located((By.ID, key))\n",
    "    elif by.lower() == \"class\":\n",
    "        condition = EC.visibility_of_element_located((By.CLASS_NAME, key))\n",
    "    elif by.lower() == \"name\":\n",
    "        condition = EC.element_to_be_clickable((By.NAME, key))\n",
    "    elif by.lower() == \"tag\":\n",
    "        condition = EC.element_to_be_clickable((By.TAG_NAME, key))\n",
    "    elif by.lower() == \"css\":\n",
    "        condition = EC.element_to_be_clickable((By.CSS_SELECTOR, key))\n",
    "    else:\n",
    "        return []\n",
    "\n",
    "    try:\n",
    "        element = WebDriverWait(driver, timeout).until(condition)\n",
    "        return element\n",
    "    except:\n",
    "        return []"
   ]
  },
  {
   "cell_type": "code",
   "execution_count": 143,
   "metadata": {},
   "outputs": [],
   "source": [
    "try:\n",
    "    search = driver.find_element(By.CSS_SELECTOR, value=\"a > .uk-icon-search\")\n",
    "    search.click()\n",
    "except:\n",
    "    try:\n",
    "        search = driver.find_elements(By.CSS_SELECTOR, value=\".button > .uk-button\")\n",
    "        search[0].click()\n",
    "    except:\n",
    "        pass"
   ]
  },
  {
   "cell_type": "code",
   "execution_count": 144,
   "metadata": {},
   "outputs": [
    {
     "data": {
      "text/plain": [
       "[]"
      ]
     },
     "execution_count": 144,
     "metadata": {},
     "output_type": "execute_result"
    }
   ],
   "source": [
    "wait = wait_element(driver=driver,timeout=120,key=\".uk-form-controls\", by=\"class\")\n",
    "wait"
   ]
  },
  {
   "cell_type": "code",
   "execution_count": 145,
   "metadata": {},
   "outputs": [
    {
     "data": {
      "text/plain": [
       "[<selenium.webdriver.remote.webelement.WebElement (session=\"b21c14528687c1656144d771040fb4ea\", element=\"f.CE2670A39A1D370F2A3E487AFFE27DD2.d.0234711C5008DCABBB65BC357F576668.e.10\")>,\n",
       " <selenium.webdriver.remote.webelement.WebElement (session=\"b21c14528687c1656144d771040fb4ea\", element=\"f.CE2670A39A1D370F2A3E487AFFE27DD2.d.0234711C5008DCABBB65BC357F576668.e.15\")>]"
      ]
     },
     "execution_count": 145,
     "metadata": {},
     "output_type": "execute_result"
    }
   ],
   "source": [
    "wait =driver.find_elements(By.CSS_SELECTOR,value=\".uk-form-controls > .need > select\")\n",
    "wait"
   ]
  },
  {
   "cell_type": "code",
   "execution_count": 146,
   "metadata": {},
   "outputs": [],
   "source": [
    "from selenium.webdriver.support.ui import Select"
   ]
  },
  {
   "cell_type": "code",
   "execution_count": 147,
   "metadata": {},
   "outputs": [],
   "source": [
    "try:\n",
    "    need_select = Select(wait[0])\n",
    "    need_select.select_by_visible_text(\"Bán\")\n",
    "except:\n",
    "    need_select = Select(wait[1])\n",
    "    need_select.select_by_visible_text(\"Bán\")"
   ]
  },
  {
   "cell_type": "code",
   "execution_count": 148,
   "metadata": {},
   "outputs": [],
   "source": [
    "wait =driver.find_elements(By.CSS_SELECTOR,value=\".uk-form-controls > .city > select\")\n",
    "try:\n",
    "    need_select = Select(wait[0])\n",
    "    need_select.select_by_visible_text(\"Long An\")\n",
    "except:\n",
    "    need_select = Select(wait[1])\n",
    "    need_select.select_by_visible_text(\"Long An\")"
   ]
  },
  {
   "cell_type": "code",
   "execution_count": 149,
   "metadata": {},
   "outputs": [],
   "source": [
    "try:\n",
    "    search = driver.find_elements(By.CSS_SELECTOR, value=\".button > .uk-button\")\n",
    "    search[0].click()\n",
    "except:\n",
    "    search[1].click()"
   ]
  },
  {
   "cell_type": "code",
   "execution_count": 150,
   "metadata": {},
   "outputs": [],
   "source": [
    "a = driver.find_elements(By.CLASS_NAME,value=\"datalist\")[0]"
   ]
  },
  {
   "cell_type": "code",
   "execution_count": 151,
   "metadata": {},
   "outputs": [],
   "source": [
    "hrefs = a.find_elements(By.XPATH, './div/div/div/div/a')"
   ]
  },
  {
   "cell_type": "code",
   "execution_count": 152,
   "metadata": {},
   "outputs": [],
   "source": [
    "# item for crawl\n",
    "hrefs= hrefs[:5]"
   ]
  },
  {
   "cell_type": "code",
   "execution_count": 153,
   "metadata": {},
   "outputs": [
    {
     "data": {
      "text/plain": [
       "[<selenium.webdriver.remote.webelement.WebElement (session=\"b21c14528687c1656144d771040fb4ea\", element=\"f.CE2670A39A1D370F2A3E487AFFE27DD2.d.42B39E65E854341C6DEB5466C7B65A46.e.115\")>,\n",
       " <selenium.webdriver.remote.webelement.WebElement (session=\"b21c14528687c1656144d771040fb4ea\", element=\"f.CE2670A39A1D370F2A3E487AFFE27DD2.d.42B39E65E854341C6DEB5466C7B65A46.e.116\")>,\n",
       " <selenium.webdriver.remote.webelement.WebElement (session=\"b21c14528687c1656144d771040fb4ea\", element=\"f.CE2670A39A1D370F2A3E487AFFE27DD2.d.42B39E65E854341C6DEB5466C7B65A46.e.117\")>,\n",
       " <selenium.webdriver.remote.webelement.WebElement (session=\"b21c14528687c1656144d771040fb4ea\", element=\"f.CE2670A39A1D370F2A3E487AFFE27DD2.d.42B39E65E854341C6DEB5466C7B65A46.e.118\")>,\n",
       " <selenium.webdriver.remote.webelement.WebElement (session=\"b21c14528687c1656144d771040fb4ea\", element=\"f.CE2670A39A1D370F2A3E487AFFE27DD2.d.42B39E65E854341C6DEB5466C7B65A46.e.119\")>]"
      ]
     },
     "execution_count": 153,
     "metadata": {},
     "output_type": "execute_result"
    }
   ],
   "source": [
    "hrefs"
   ]
  },
  {
   "cell_type": "code",
   "execution_count": 154,
   "metadata": {},
   "outputs": [
    {
     "data": {
      "text/plain": [
       "'https://batdongsan.vn/ban-dat-chinh-chu-gan-dt-816-n2-vanh-dai-3-r284183'"
      ]
     },
     "execution_count": 154,
     "metadata": {},
     "output_type": "execute_result"
    }
   ],
   "source": [
    "url=hrefs[1].get_attribute(\"href\")\n",
    "url"
   ]
  },
  {
   "cell_type": "code",
   "execution_count": 155,
   "metadata": {},
   "outputs": [],
   "source": [
    "driver.execute_script(\"window.open('');\")\n",
    "driver.switch_to.window(driver.window_handles[1])"
   ]
  },
  {
   "cell_type": "code",
   "execution_count": 156,
   "metadata": {},
   "outputs": [],
   "source": [
    "driver.get(url)"
   ]
  },
  {
   "cell_type": "code",
   "execution_count": 157,
   "metadata": {},
   "outputs": [],
   "source": [
    "data = {}"
   ]
  },
  {
   "cell_type": "code",
   "execution_count": 158,
   "metadata": {},
   "outputs": [],
   "source": [
    "data[\"price\"] = driver.find_element(By.CSS_SELECTOR,value=\".body > .meta > strong\").text"
   ]
  },
  {
   "cell_type": "code",
   "execution_count": 159,
   "metadata": {},
   "outputs": [],
   "source": [
    "data[\"area\"] = driver.find_elements(By.CSS_SELECTOR,value=\".param > .uk-list > li\")[0].text\n",
    "data[\"address\"] = driver.find_elements(By.CSS_SELECTOR,value=\".param > .uk-list > li\")[1].text"
   ]
  },
  {
   "cell_type": "code",
   "execution_count": 160,
   "metadata": {},
   "outputs": [],
   "source": [
    "data[\"customer\"] = driver.find_element(By.CSS_SELECTOR,value=\".header > .name > a\").text\n",
    "data[\"customer_link\"] = driver.find_element(By.CSS_SELECTOR,value=\".header > .name > a\").get_attribute(\"href\")\n",
    "data[\"customer_mail\"] = driver.find_element(By.CSS_SELECTOR,value=\".more.email > a\").get_attribute(\"href\")\n",
    "data[\"customer_phone\"] = driver.find_element(By.CSS_SELECTOR,value=\".more.phone > a\").get_attribute(\"href\")\n",
    "data[\"content\"] = driver.find_element(By.CSS_SELECTOR,value=\".body > .content\").text\n",
    "\n",
    "urls= driver.find_elements(By.CSS_SELECTOR,value=\".uk-slider-container > div > div > .image.cover > a\")\n",
    "data[\"img\"] = [url.get_attribute(\"href\") for url in urls]"
   ]
  },
  {
   "cell_type": "code",
   "execution_count": 161,
   "metadata": {},
   "outputs": [
    {
     "data": {
      "text/plain": [
       "{'price': 'Thỏa thuận',\n",
       " 'area': 'Diện tích: 2111 m2',\n",
       " 'address': 'Mã tin: 284183',\n",
       " 'customer': 'MS HIEN',\n",
       " 'customer_link': 'https://batdongsan.vn/mshien.197961',\n",
       " 'customer_mail': 'mailto:subosuri1921@gmail.com',\n",
       " 'customer_phone': 'tel:0987097047',\n",
       " 'content': 'Bán Đất xã thạnh lợi, 2 mặt tiền ở được xe hơi tới đất, sang năm lên nhựa, xây dựng tự do, đầu tư sinh lợi, nghĩ dưỡng mát mẻ , sổ đỏ đầy đủ. cách đường tỉnh DT816 200m, gần chợ Thạnh lợi, Gần đường N2. gần KCN và dân cư đông đúc. Gía 4.100.000.000 vnd thương lượng. sdt 0987097047.',\n",
       " 'img': ['https://cdn.batdongsan.vn/queue/upload/file/realestate/2023/11/197961/614973/113-176-95-186-4f40e738a70619ca6c1d4fca66b20e63-2834947060987232045.jpg',\n",
       "  'https://cdn.batdongsan.vn/queue/upload/file/realestate/2023/11/197961/614973/113-176-95-186-b614de3e7cf94fc1c4989861c888825b-2834947030212200925.jpg',\n",
       "  'https://cdn.batdongsan.vn/queue/upload/file/realestate/2023/11/197961/614973/113-176-95-186-dat.JPG',\n",
       "  'https://cdn.batdongsan.vn/queue/upload/file/realestate/2023/11/197961/614973/113-176-95-186-4f40e738a70619ca6c1d4fca66b20e63-2834947060987232045.jpg',\n",
       "  'https://cdn.batdongsan.vn/queue/upload/file/realestate/2023/11/197961/614973/113-176-95-186-b614de3e7cf94fc1c4989861c888825b-2834947030212200925.jpg',\n",
       "  'https://cdn.batdongsan.vn/queue/upload/file/realestate/2023/11/197961/614973/113-176-95-186-dat.JPG',\n",
       "  'https://cdn.batdongsan.vn/queue/upload/file/realestate/2023/11/197961/614973/113-176-95-186-4f40e738a70619ca6c1d4fca66b20e63-2834947060987232045.jpg',\n",
       "  'https://cdn.batdongsan.vn/queue/upload/file/realestate/2023/11/197961/614973/113-176-95-186-b614de3e7cf94fc1c4989861c888825b-2834947030212200925.jpg',\n",
       "  'https://cdn.batdongsan.vn/queue/upload/file/realestate/2023/11/197961/614973/113-176-95-186-dat.JPG']}"
      ]
     },
     "execution_count": 161,
     "metadata": {},
     "output_type": "execute_result"
    }
   ],
   "source": [
    "data"
   ]
  },
  {
   "cell_type": "code",
   "execution_count": 162,
   "metadata": {},
   "outputs": [],
   "source": [
    "import pandas as pd"
   ]
  },
  {
   "cell_type": "code",
   "execution_count": 163,
   "metadata": {},
   "outputs": [
    {
     "data": {
      "text/html": [
       "<div>\n",
       "<style scoped>\n",
       "    .dataframe tbody tr th:only-of-type {\n",
       "        vertical-align: middle;\n",
       "    }\n",
       "\n",
       "    .dataframe tbody tr th {\n",
       "        vertical-align: top;\n",
       "    }\n",
       "\n",
       "    .dataframe thead th {\n",
       "        text-align: right;\n",
       "    }\n",
       "</style>\n",
       "<table border=\"1\" class=\"dataframe\">\n",
       "  <thead>\n",
       "    <tr style=\"text-align: right;\">\n",
       "      <th></th>\n",
       "      <th>price</th>\n",
       "      <th>area</th>\n",
       "      <th>address</th>\n",
       "      <th>customer</th>\n",
       "      <th>customer_link</th>\n",
       "      <th>customer_mail</th>\n",
       "      <th>customer_phone</th>\n",
       "      <th>content</th>\n",
       "      <th>img</th>\n",
       "    </tr>\n",
       "  </thead>\n",
       "  <tbody>\n",
       "    <tr>\n",
       "      <th>0</th>\n",
       "      <td>Thỏa thuận</td>\n",
       "      <td>Diện tích: 2111 m2</td>\n",
       "      <td>Mã tin: 284183</td>\n",
       "      <td>MS HIEN</td>\n",
       "      <td>https://batdongsan.vn/mshien.197961</td>\n",
       "      <td>mailto:subosuri1921@gmail.com</td>\n",
       "      <td>tel:0987097047</td>\n",
       "      <td>Bán Đất xã thạnh lợi, 2 mặt tiền ở được xe hơi...</td>\n",
       "      <td>[https://cdn.batdongsan.vn/queue/upload/file/r...</td>\n",
       "    </tr>\n",
       "  </tbody>\n",
       "</table>\n",
       "</div>"
      ],
      "text/plain": [
       "        price                area         address customer  \\\n",
       "0  Thỏa thuận  Diện tích: 2111 m2  Mã tin: 284183  MS HIEN   \n",
       "\n",
       "                         customer_link                  customer_mail  \\\n",
       "0  https://batdongsan.vn/mshien.197961  mailto:subosuri1921@gmail.com   \n",
       "\n",
       "   customer_phone                                            content  \\\n",
       "0  tel:0987097047  Bán Đất xã thạnh lợi, 2 mặt tiền ở được xe hơi...   \n",
       "\n",
       "                                                 img  \n",
       "0  [https://cdn.batdongsan.vn/queue/upload/file/r...  "
      ]
     },
     "execution_count": 163,
     "metadata": {},
     "output_type": "execute_result"
    }
   ],
   "source": [
    "df = pd.json_normalize(data)\n",
    "df"
   ]
  },
  {
   "cell_type": "code",
   "execution_count": 164,
   "metadata": {},
   "outputs": [],
   "source": [
    "csv_file = 'data.csv'\n",
    "df.to_csv(csv_file, index=False, encoding='utf-16')"
   ]
  },
  {
   "cell_type": "code",
   "execution_count": null,
   "metadata": {},
   "outputs": [],
   "source": []
  }
 ],
 "metadata": {
  "kernelspec": {
   "display_name": ".venv",
   "language": "python",
   "name": "python3"
  },
  "language_info": {
   "codemirror_mode": {
    "name": "ipython",
    "version": 3
   },
   "file_extension": ".py",
   "mimetype": "text/x-python",
   "name": "python",
   "nbconvert_exporter": "python",
   "pygments_lexer": "ipython3",
   "version": "3.11.0"
  }
 },
 "nbformat": 4,
 "nbformat_minor": 2
}
