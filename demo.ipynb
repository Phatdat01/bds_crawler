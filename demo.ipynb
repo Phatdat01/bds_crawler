{
 "cells": [
  {
   "cell_type": "code",
   "execution_count": 44,
   "metadata": {},
   "outputs": [],
   "source": [
    "from typing import List\n",
    "\n",
    "from selenium import webdriver\n",
    "from selenium.webdriver.common.by import By\n",
    "from selenium.webdriver.common.keys import Keys\n",
    "from selenium.webdriver.chrome.service import Service\n",
    "from selenium.webdriver.support.ui import WebDriverWait, Select\n",
    "from selenium.webdriver.remote.webdriver import WebDriver\n",
    "from selenium.webdriver.remote.webelement import WebElement\n",
    "from selenium.webdriver.support import expected_conditions as EC\n",
    "from selenium.webdriver.edge.service import Service as EdgeService\n",
    "from webdriver_manager.microsoft import EdgeChromiumDriverManager"
   ]
  },
  {
   "cell_type": "code",
   "execution_count": 45,
   "metadata": {},
   "outputs": [],
   "source": [
    "service = Service()\n",
    "options = webdriver.ChromeOptions()\n",
    "driver = webdriver.Chrome(service=service, options=options)"
   ]
  },
  {
   "cell_type": "code",
   "execution_count": 46,
   "metadata": {},
   "outputs": [],
   "source": [
    "driver.get(\"https://batdongsan.vn\")"
   ]
  },
  {
   "cell_type": "code",
   "execution_count": 47,
   "metadata": {},
   "outputs": [],
   "source": [
    "def wait_element(driver: WebDriver, timeout: int, key: str, by: str) -> WebElement:\n",
    "    if by.lower() == \"id\":\n",
    "        condition = EC.presence_of_element_located((By.ID, key))\n",
    "    elif by.lower() == \"class\":\n",
    "        condition = EC.visibility_of_element_located((By.CLASS_NAME, key))\n",
    "    elif by.lower() == \"name\":\n",
    "        condition = EC.element_to_be_clickable((By.NAME, key))\n",
    "    elif by.lower() == \"tag\":\n",
    "        condition = EC.element_to_be_clickable((By.TAG_NAME, key))\n",
    "    elif by.lower() == \"css\":\n",
    "        condition = EC.element_to_be_clickable((By.CSS_SELECTOR, key))\n",
    "    else:\n",
    "        return []\n",
    "\n",
    "    try:\n",
    "        element = WebDriverWait(driver, timeout).until(condition)\n",
    "        return element\n",
    "    except:\n",
    "        return []"
   ]
  },
  {
   "cell_type": "code",
   "execution_count": 48,
   "metadata": {},
   "outputs": [],
   "source": [
    "def handle_tag_action(taglist: List[WebDriver], index: int, content: str = \"\"):\n",
    "    if content:\n",
    "        need_select = Select(taglist[index])\n",
    "        need_select.select_by_visible_text(content)\n",
    "    else:\n",
    "        taglist[index].click()\n",
    "\n",
    "def handle_tag(taglist: List[WebDriver], index: int = None, content: str = \"\"):\n",
    "    if index == None:\n",
    "        index = len(taglist)-1\n",
    "    try:\n",
    "        handle_tag_action(taglist=taglist, index=index, content=content)\n",
    "    except Exception as e:\n",
    "        # Handle specific exceptions as per your requirement\n",
    "        if index != 0:\n",
    "            handle_tag(taglist=taglist, index=index-1, content=content)"
   ]
  },
  {
   "cell_type": "code",
   "execution_count": 49,
   "metadata": {},
   "outputs": [],
   "source": [
    "try:\n",
    "    search = driver.find_elements(By.CSS_SELECTOR, value=\"a > .uk-icon-search\")\n",
    "    handle_tag(taglist=search)\n",
    "except:\n",
    "    try:\n",
    "        search = driver.find_elements(By.CSS_SELECTOR, value=\".button > .uk-button\")\n",
    "        handle_tag(taglist=search)\n",
    "    except:\n",
    "        pass"
   ]
  },
  {
   "cell_type": "code",
   "execution_count": 50,
   "metadata": {},
   "outputs": [
    {
     "data": {
      "text/plain": [
       "[]"
      ]
     },
     "execution_count": 50,
     "metadata": {},
     "output_type": "execute_result"
    }
   ],
   "source": [
    "wait = wait_element(driver=driver,timeout=120,key=\".uk-form-controls\", by=\"class\")\n",
    "wait"
   ]
  },
  {
   "cell_type": "code",
   "execution_count": 51,
   "metadata": {},
   "outputs": [
    {
     "data": {
      "text/plain": [
       "[<selenium.webdriver.remote.webelement.WebElement (session=\"878d473d78e5f50fc67158f32a670108\", element=\"f.1186AFAE85991FF978185F394CF1850E.d.A487C081F636B1282F0C9B063566B022.e.3\")>,\n",
       " <selenium.webdriver.remote.webelement.WebElement (session=\"878d473d78e5f50fc67158f32a670108\", element=\"f.1186AFAE85991FF978185F394CF1850E.d.A487C081F636B1282F0C9B063566B022.e.47\")>]"
      ]
     },
     "execution_count": 51,
     "metadata": {},
     "output_type": "execute_result"
    }
   ],
   "source": [
    "wait =driver.find_elements(By.CSS_SELECTOR,value=\".uk-form-controls > .need > select\")\n",
    "wait"
   ]
  },
  {
   "cell_type": "code",
   "execution_count": 52,
   "metadata": {},
   "outputs": [],
   "source": [
    "handle_tag(taglist=wait, content=\"Bán\")"
   ]
  },
  {
   "cell_type": "code",
   "execution_count": 53,
   "metadata": {},
   "outputs": [],
   "source": [
    "wait =driver.find_elements(By.CSS_SELECTOR,value=\".uk-form-controls > .city > select\")\n",
    "handle_tag(taglist=wait, content=\"Long An\")"
   ]
  },
  {
   "cell_type": "code",
   "execution_count": 57,
   "metadata": {},
   "outputs": [],
   "source": [
    "search = driver.find_elements(By.CSS_SELECTOR, value=\".button > .uk-button\")\n",
    "handle_tag(taglist=wait)"
   ]
  },
  {
   "cell_type": "code",
   "execution_count": 59,
   "metadata": {},
   "outputs": [],
   "source": [
    "next=driver.find_element(By.CSS_SELECTOR,value='[rel=\"next\"]')\n",
    "next.click()"
   ]
  },
  {
   "cell_type": "code",
   "execution_count": 60,
   "metadata": {},
   "outputs": [],
   "source": [
    "a = driver.find_elements(By.CLASS_NAME,value=\"datalist\")[0]"
   ]
  },
  {
   "cell_type": "code",
   "execution_count": 61,
   "metadata": {},
   "outputs": [],
   "source": [
    "hrefs = a.find_elements(By.XPATH, './div/div/div/div/a')"
   ]
  },
  {
   "cell_type": "code",
   "execution_count": 34,
   "metadata": {},
   "outputs": [],
   "source": [
    "# item for crawl\n",
    "hrefs= hrefs[:5]"
   ]
  },
  {
   "cell_type": "code",
   "execution_count": 62,
   "metadata": {},
   "outputs": [
    {
     "data": {
      "text/plain": [
       "[<selenium.webdriver.remote.webelement.WebElement (session=\"878d473d78e5f50fc67158f32a670108\", element=\"f.1186AFAE85991FF978185F394CF1850E.d.96290C9DDC77BE7C865FA3DAEF732E03.e.193\")>,\n",
       " <selenium.webdriver.remote.webelement.WebElement (session=\"878d473d78e5f50fc67158f32a670108\", element=\"f.1186AFAE85991FF978185F394CF1850E.d.96290C9DDC77BE7C865FA3DAEF732E03.e.194\")>,\n",
       " <selenium.webdriver.remote.webelement.WebElement (session=\"878d473d78e5f50fc67158f32a670108\", element=\"f.1186AFAE85991FF978185F394CF1850E.d.96290C9DDC77BE7C865FA3DAEF732E03.e.195\")>,\n",
       " <selenium.webdriver.remote.webelement.WebElement (session=\"878d473d78e5f50fc67158f32a670108\", element=\"f.1186AFAE85991FF978185F394CF1850E.d.96290C9DDC77BE7C865FA3DAEF732E03.e.196\")>,\n",
       " <selenium.webdriver.remote.webelement.WebElement (session=\"878d473d78e5f50fc67158f32a670108\", element=\"f.1186AFAE85991FF978185F394CF1850E.d.96290C9DDC77BE7C865FA3DAEF732E03.e.197\")>,\n",
       " <selenium.webdriver.remote.webelement.WebElement (session=\"878d473d78e5f50fc67158f32a670108\", element=\"f.1186AFAE85991FF978185F394CF1850E.d.96290C9DDC77BE7C865FA3DAEF732E03.e.198\")>,\n",
       " <selenium.webdriver.remote.webelement.WebElement (session=\"878d473d78e5f50fc67158f32a670108\", element=\"f.1186AFAE85991FF978185F394CF1850E.d.96290C9DDC77BE7C865FA3DAEF732E03.e.199\")>,\n",
       " <selenium.webdriver.remote.webelement.WebElement (session=\"878d473d78e5f50fc67158f32a670108\", element=\"f.1186AFAE85991FF978185F394CF1850E.d.96290C9DDC77BE7C865FA3DAEF732E03.e.200\")>,\n",
       " <selenium.webdriver.remote.webelement.WebElement (session=\"878d473d78e5f50fc67158f32a670108\", element=\"f.1186AFAE85991FF978185F394CF1850E.d.96290C9DDC77BE7C865FA3DAEF732E03.e.201\")>,\n",
       " <selenium.webdriver.remote.webelement.WebElement (session=\"878d473d78e5f50fc67158f32a670108\", element=\"f.1186AFAE85991FF978185F394CF1850E.d.96290C9DDC77BE7C865FA3DAEF732E03.e.202\")>,\n",
       " <selenium.webdriver.remote.webelement.WebElement (session=\"878d473d78e5f50fc67158f32a670108\", element=\"f.1186AFAE85991FF978185F394CF1850E.d.96290C9DDC77BE7C865FA3DAEF732E03.e.203\")>,\n",
       " <selenium.webdriver.remote.webelement.WebElement (session=\"878d473d78e5f50fc67158f32a670108\", element=\"f.1186AFAE85991FF978185F394CF1850E.d.96290C9DDC77BE7C865FA3DAEF732E03.e.204\")>,\n",
       " <selenium.webdriver.remote.webelement.WebElement (session=\"878d473d78e5f50fc67158f32a670108\", element=\"f.1186AFAE85991FF978185F394CF1850E.d.96290C9DDC77BE7C865FA3DAEF732E03.e.205\")>,\n",
       " <selenium.webdriver.remote.webelement.WebElement (session=\"878d473d78e5f50fc67158f32a670108\", element=\"f.1186AFAE85991FF978185F394CF1850E.d.96290C9DDC77BE7C865FA3DAEF732E03.e.206\")>,\n",
       " <selenium.webdriver.remote.webelement.WebElement (session=\"878d473d78e5f50fc67158f32a670108\", element=\"f.1186AFAE85991FF978185F394CF1850E.d.96290C9DDC77BE7C865FA3DAEF732E03.e.207\")>,\n",
       " <selenium.webdriver.remote.webelement.WebElement (session=\"878d473d78e5f50fc67158f32a670108\", element=\"f.1186AFAE85991FF978185F394CF1850E.d.96290C9DDC77BE7C865FA3DAEF732E03.e.208\")>,\n",
       " <selenium.webdriver.remote.webelement.WebElement (session=\"878d473d78e5f50fc67158f32a670108\", element=\"f.1186AFAE85991FF978185F394CF1850E.d.96290C9DDC77BE7C865FA3DAEF732E03.e.209\")>,\n",
       " <selenium.webdriver.remote.webelement.WebElement (session=\"878d473d78e5f50fc67158f32a670108\", element=\"f.1186AFAE85991FF978185F394CF1850E.d.96290C9DDC77BE7C865FA3DAEF732E03.e.210\")>,\n",
       " <selenium.webdriver.remote.webelement.WebElement (session=\"878d473d78e5f50fc67158f32a670108\", element=\"f.1186AFAE85991FF978185F394CF1850E.d.96290C9DDC77BE7C865FA3DAEF732E03.e.211\")>,\n",
       " <selenium.webdriver.remote.webelement.WebElement (session=\"878d473d78e5f50fc67158f32a670108\", element=\"f.1186AFAE85991FF978185F394CF1850E.d.96290C9DDC77BE7C865FA3DAEF732E03.e.212\")>]"
      ]
     },
     "execution_count": 62,
     "metadata": {},
     "output_type": "execute_result"
    }
   ],
   "source": [
    "hrefs"
   ]
  },
  {
   "cell_type": "code",
   "execution_count": 37,
   "metadata": {},
   "outputs": [],
   "source": [
    "driver.execute_script(\"window.open('');\")\n",
    "driver.switch_to.window(driver.window_handles[1])"
   ]
  },
  {
   "cell_type": "code",
   "execution_count": 38,
   "metadata": {},
   "outputs": [],
   "source": [
    "driver.get(url)"
   ]
  },
  {
   "cell_type": "code",
   "execution_count": 39,
   "metadata": {},
   "outputs": [],
   "source": [
    "data = {}"
   ]
  },
  {
   "cell_type": "code",
   "execution_count": 40,
   "metadata": {},
   "outputs": [],
   "source": [
    "data[\"price\"] = driver.find_element(By.CSS_SELECTOR,value=\".body > .meta > strong\").text"
   ]
  },
  {
   "cell_type": "code",
   "execution_count": 41,
   "metadata": {},
   "outputs": [],
   "source": [
    "data[\"area\"] = driver.find_elements(By.CSS_SELECTOR,value=\".param > .uk-list > li\")[0].text\n",
    "data[\"address\"] = driver.find_elements(By.CSS_SELECTOR,value=\".param > .uk-list > li\")[1].text"
   ]
  },
  {
   "cell_type": "code",
   "execution_count": 42,
   "metadata": {},
   "outputs": [],
   "source": [
    "data[\"customer\"] = driver.find_element(By.CSS_SELECTOR,value=\".header > .name > a\").text\n",
    "data[\"customer_link\"] = driver.find_element(By.CSS_SELECTOR,value=\".header > .name > a\").get_attribute(\"href\")\n",
    "data[\"customer_mail\"] = driver.find_element(By.CSS_SELECTOR,value=\".more.email > a\").get_attribute(\"href\")\n",
    "data[\"customer_phone\"] = driver.find_element(By.CSS_SELECTOR,value=\".more.phone > a\").get_attribute(\"href\")\n",
    "data[\"content\"] = driver.find_element(By.CSS_SELECTOR,value=\".body > .content\").text\n",
    "\n",
    "urls= driver.find_elements(By.CSS_SELECTOR,value=\".uk-slider-container > div > div > .image.cover > a\")\n",
    "data[\"img\"] = [url.get_attribute(\"href\") for url in urls]"
   ]
  },
  {
   "cell_type": "code",
   "execution_count": 43,
   "metadata": {},
   "outputs": [
    {
     "data": {
      "text/plain": [
       "{'price': '870 triệu',\n",
       " 'area': 'Diện tích: 140 m2',\n",
       " 'address': 'Mã tin: 278465',\n",
       " 'customer': 'Mai Huỳnh Đức Huy',\n",
       " 'customer_link': 'https://batdongsan.vn/maihuynhduchuy.177728',\n",
       " 'customer_mail': 'mailto:duchuymai.travel@gmail.com',\n",
       " 'customer_phone': 'tel:0901347705',\n",
       " 'content': 'Diện tích: 140m2 SHR\\n\\nKẾ BÊN CHỢ CHỈ 400M\\n\\nĐường nhựa 6m\\n\\nĐất ngay khu dân cư đông đúc, thích hợp xây trọ cất nhà ở\\n\\nĐầy đủ tiện ích xung quanh trong bán kính chưa tới 1km\\n\\nGiá: 870 triệu (Không phát sinh chi phí).',\n",
       " 'img': ['https://cdn.batdongsan.vn/queue/upload/file/realestate/2023/09/177728/572534/42-117-225-170-z4706170862734-ffe32de4e29d86e3ec7a0bb5af4df914.jpg',\n",
       "  'https://cdn.batdongsan.vn/queue/upload/file/realestate/2023/09/177728/572534/42-117-225-170-z4706170864210-f0f14df260e0eec7a9e69b69349139f2.jpg',\n",
       "  'https://cdn.batdongsan.vn/queue/upload/file/realestate/2023/09/177728/572534/42-117-225-170-z4706170862734-ffe32de4e29d86e3ec7a0bb5af4df914.jpg',\n",
       "  'https://cdn.batdongsan.vn/queue/upload/file/realestate/2023/09/177728/572534/42-117-225-170-z4706170864210-f0f14df260e0eec7a9e69b69349139f2.jpg',\n",
       "  'https://cdn.batdongsan.vn/queue/upload/file/realestate/2023/09/177728/572534/42-117-225-170-z4706170862734-ffe32de4e29d86e3ec7a0bb5af4df914.jpg',\n",
       "  'https://cdn.batdongsan.vn/queue/upload/file/realestate/2023/09/177728/572534/42-117-225-170-z4706170864210-f0f14df260e0eec7a9e69b69349139f2.jpg']}"
      ]
     },
     "execution_count": 43,
     "metadata": {},
     "output_type": "execute_result"
    }
   ],
   "source": [
    "data"
   ]
  },
  {
   "cell_type": "code",
   "execution_count": 32,
   "metadata": {},
   "outputs": [],
   "source": [
    "driver.switch_to.window(driver.window_handles[0])"
   ]
  },
  {
   "cell_type": "code",
   "execution_count": 217,
   "metadata": {},
   "outputs": [],
   "source": [
    "import pandas as pd"
   ]
  },
  {
   "cell_type": "code",
   "execution_count": 218,
   "metadata": {},
   "outputs": [
    {
     "data": {
      "text/html": [
       "<div>\n",
       "<style scoped>\n",
       "    .dataframe tbody tr th:only-of-type {\n",
       "        vertical-align: middle;\n",
       "    }\n",
       "\n",
       "    .dataframe tbody tr th {\n",
       "        vertical-align: top;\n",
       "    }\n",
       "\n",
       "    .dataframe thead th {\n",
       "        text-align: right;\n",
       "    }\n",
       "</style>\n",
       "<table border=\"1\" class=\"dataframe\">\n",
       "  <thead>\n",
       "    <tr style=\"text-align: right;\">\n",
       "      <th></th>\n",
       "      <th>price</th>\n",
       "      <th>area</th>\n",
       "      <th>address</th>\n",
       "      <th>customer</th>\n",
       "      <th>customer_link</th>\n",
       "      <th>customer_mail</th>\n",
       "      <th>customer_phone</th>\n",
       "      <th>content</th>\n",
       "      <th>img</th>\n",
       "    </tr>\n",
       "  </thead>\n",
       "  <tbody>\n",
       "    <tr>\n",
       "      <th>0</th>\n",
       "      <td>7.35 tỷ</td>\n",
       "      <td>Diện tích: 41 m2</td>\n",
       "      <td>Địa chỉ: LÊ HỒNG PHONG PHƯỜNG 2 QUẬN 5</td>\n",
       "      <td>Phước Hân</td>\n",
       "      <td>https://batdongsan.vn/briandonghan</td>\n",
       "      <td>mailto:dongphuochan2010@gmail.com</td>\n",
       "      <td>tel:0849734646</td>\n",
       "      <td>Mô tả:\\n- Diện tích công nhận 41m, thực tế 66m...</td>\n",
       "      <td>[https://cdn.batdongsan.vn/queue/upload/file/r...</td>\n",
       "    </tr>\n",
       "  </tbody>\n",
       "</table>\n",
       "</div>"
      ],
      "text/plain": [
       "     price              area                                 address  \\\n",
       "0  7.35 tỷ  Diện tích: 41 m2  Địa chỉ: LÊ HỒNG PHONG PHƯỜNG 2 QUẬN 5   \n",
       "\n",
       "    customer                       customer_link  \\\n",
       "0  Phước Hân  https://batdongsan.vn/briandonghan   \n",
       "\n",
       "                       customer_mail  customer_phone  \\\n",
       "0  mailto:dongphuochan2010@gmail.com  tel:0849734646   \n",
       "\n",
       "                                             content  \\\n",
       "0  Mô tả:\\n- Diện tích công nhận 41m, thực tế 66m...   \n",
       "\n",
       "                                                 img  \n",
       "0  [https://cdn.batdongsan.vn/queue/upload/file/r...  "
      ]
     },
     "execution_count": 218,
     "metadata": {},
     "output_type": "execute_result"
    }
   ],
   "source": [
    "df = pd.json_normalize(data)\n",
    "df"
   ]
  },
  {
   "cell_type": "code",
   "execution_count": 219,
   "metadata": {},
   "outputs": [],
   "source": [
    "csv_file = 'data.csv'\n",
    "df.to_csv(csv_file, index=False, encoding='utf-16')"
   ]
  },
  {
   "cell_type": "code",
   "execution_count": null,
   "metadata": {},
   "outputs": [],
   "source": []
  }
 ],
 "metadata": {
  "kernelspec": {
   "display_name": ".venv",
   "language": "python",
   "name": "python3"
  },
  "language_info": {
   "codemirror_mode": {
    "name": "ipython",
    "version": 3
   },
   "file_extension": ".py",
   "mimetype": "text/x-python",
   "name": "python",
   "nbconvert_exporter": "python",
   "pygments_lexer": "ipython3",
   "version": "3.11.0"
  }
 },
 "nbformat": 4,
 "nbformat_minor": 2
}
