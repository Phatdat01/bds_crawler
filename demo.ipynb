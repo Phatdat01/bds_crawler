{
 "cells": [
  {
   "cell_type": "code",
   "execution_count": 221,
   "metadata": {},
   "outputs": [],
   "source": [
    "from typing import List\n",
    "\n",
    "from selenium import webdriver\n",
    "from selenium.webdriver.common.by import By\n",
    "from selenium.webdriver.common.keys import Keys\n",
    "from selenium.webdriver.chrome.service import Service\n",
    "from selenium.webdriver.support.ui import WebDriverWait, Select\n",
    "from selenium.webdriver.remote.webdriver import WebDriver\n",
    "from selenium.webdriver.remote.webelement import WebElement\n",
    "from selenium.webdriver.support import expected_conditions as EC\n",
    "from selenium.webdriver.edge.service import Service as EdgeService\n",
    "from webdriver_manager.microsoft import EdgeChromiumDriverManager"
   ]
  },
  {
   "cell_type": "code",
   "execution_count": 222,
   "metadata": {},
   "outputs": [],
   "source": [
    "service = Service()\n",
    "options = webdriver.ChromeOptions()\n",
    "driver = webdriver.Chrome(service=service, options=options)"
   ]
  },
  {
   "cell_type": "code",
   "execution_count": 223,
   "metadata": {},
   "outputs": [],
   "source": [
    "driver.get(\"https://batdongsan.vn\")"
   ]
  },
  {
   "cell_type": "code",
   "execution_count": 224,
   "metadata": {},
   "outputs": [],
   "source": [
    "def wait_element(driver: WebDriver, timeout: int, key: str, by: str) -> WebElement:\n",
    "    if by.lower() == \"id\":\n",
    "        condition = EC.presence_of_element_located((By.ID, key))\n",
    "    elif by.lower() == \"class\":\n",
    "        condition = EC.visibility_of_element_located((By.CLASS_NAME, key))\n",
    "    elif by.lower() == \"name\":\n",
    "        condition = EC.element_to_be_clickable((By.NAME, key))\n",
    "    elif by.lower() == \"tag\":\n",
    "        condition = EC.element_to_be_clickable((By.TAG_NAME, key))\n",
    "    elif by.lower() == \"css\":\n",
    "        condition = EC.element_to_be_clickable((By.CSS_SELECTOR, key))\n",
    "    else:\n",
    "        return []\n",
    "\n",
    "    try:\n",
    "        element = WebDriverWait(driver, timeout).until(condition)\n",
    "        return element\n",
    "    except:\n",
    "        return []"
   ]
  },
  {
   "cell_type": "code",
   "execution_count": 225,
   "metadata": {},
   "outputs": [],
   "source": [
    "def handle_tag_action(taglist: List[WebDriver], index: int, content: str = \"\"):\n",
    "    if content:\n",
    "        need_select = Select(taglist[index])\n",
    "        need_select.select_by_visible_text(content)\n",
    "    else:\n",
    "        taglist[index].click()\n",
    "\n",
    "def handle_tag(taglist: List[WebDriver], index: int = None, content: str = \"\"):\n",
    "    if index == None:\n",
    "        index = len(taglist)-1\n",
    "    try:\n",
    "        handle_tag_action(taglist=taglist, index=index, content=content)\n",
    "    except Exception as e:\n",
    "        # Handle specific exceptions as per your requirement\n",
    "        if index != 0:\n",
    "            handle_tag(taglist=taglist, index=index-1, content=content)"
   ]
  },
  {
   "cell_type": "code",
   "execution_count": 226,
   "metadata": {},
   "outputs": [],
   "source": [
    "try:\n",
    "    search = driver.find_elements(By.CSS_SELECTOR, value=\"a > .uk-icon-search\")\n",
    "    handle_tag(taglist=search)\n",
    "except:\n",
    "    try:\n",
    "        search = driver.find_elements(By.CSS_SELECTOR, value=\".button > .uk-button\")\n",
    "        handle_tag(taglist=search)\n",
    "    except:\n",
    "        pass"
   ]
  },
  {
   "cell_type": "code",
   "execution_count": 227,
   "metadata": {},
   "outputs": [
    {
     "data": {
      "text/plain": [
       "[]"
      ]
     },
     "execution_count": 227,
     "metadata": {},
     "output_type": "execute_result"
    }
   ],
   "source": [
    "wait = wait_element(driver=driver,timeout=120,key=\".uk-form-controls\", by=\"class\")\n",
    "wait"
   ]
  },
  {
   "cell_type": "code",
   "execution_count": 228,
   "metadata": {},
   "outputs": [
    {
     "data": {
      "text/plain": [
       "[<selenium.webdriver.remote.webelement.WebElement (session=\"fbfdd2fdfbc544dac17c42c2a5a24549\", element=\"f.239B16D0CED85E5B507FA4EA909854B1.d.5C4DF2E9C350F9AAB8B07E1DD45C847E.e.14\")>,\n",
       " <selenium.webdriver.remote.webelement.WebElement (session=\"fbfdd2fdfbc544dac17c42c2a5a24549\", element=\"f.239B16D0CED85E5B507FA4EA909854B1.d.5C4DF2E9C350F9AAB8B07E1DD45C847E.e.19\")>]"
      ]
     },
     "execution_count": 228,
     "metadata": {},
     "output_type": "execute_result"
    }
   ],
   "source": [
    "wait =driver.find_elements(By.CSS_SELECTOR,value=\".uk-form-controls > .need > select\")\n",
    "wait"
   ]
  },
  {
   "cell_type": "code",
   "execution_count": 202,
   "metadata": {},
   "outputs": [],
   "source": [
    "handle_tag(taglist=wait, content=\"Bán\")"
   ]
  },
  {
   "cell_type": "code",
   "execution_count": 203,
   "metadata": {},
   "outputs": [],
   "source": [
    "wait =driver.find_elements(By.CSS_SELECTOR,value=\".uk-form-controls > .city > select\")\n",
    "handle_tag(taglist=wait, content=\"Long An\")"
   ]
  },
  {
   "cell_type": "code",
   "execution_count": 204,
   "metadata": {},
   "outputs": [],
   "source": [
    "search = driver.find_elements(By.CSS_SELECTOR, value=\".button > .uk-button\")\n",
    "handle_tag(taglist=wait)"
   ]
  },
  {
   "cell_type": "code",
   "execution_count": 205,
   "metadata": {},
   "outputs": [],
   "source": [
    "a = driver.find_elements(By.CLASS_NAME,value=\"datalist\")[0]"
   ]
  },
  {
   "cell_type": "code",
   "execution_count": 206,
   "metadata": {},
   "outputs": [],
   "source": [
    "hrefs = a.find_elements(By.XPATH, './div/div/div/div/a')"
   ]
  },
  {
   "cell_type": "code",
   "execution_count": 207,
   "metadata": {},
   "outputs": [],
   "source": [
    "# item for crawl\n",
    "hrefs= hrefs[:5]"
   ]
  },
  {
   "cell_type": "code",
   "execution_count": 208,
   "metadata": {},
   "outputs": [
    {
     "data": {
      "text/plain": [
       "[<selenium.webdriver.remote.webelement.WebElement (session=\"64cbbdb90ab465ec066e759e24ac181c\", element=\"f.DDDFEAADD7036922A780602F626F66BD.d.0FB1D620AC6A71B98F4FC8875301C8CE.e.73\")>,\n",
       " <selenium.webdriver.remote.webelement.WebElement (session=\"64cbbdb90ab465ec066e759e24ac181c\", element=\"f.DDDFEAADD7036922A780602F626F66BD.d.0FB1D620AC6A71B98F4FC8875301C8CE.e.74\")>,\n",
       " <selenium.webdriver.remote.webelement.WebElement (session=\"64cbbdb90ab465ec066e759e24ac181c\", element=\"f.DDDFEAADD7036922A780602F626F66BD.d.0FB1D620AC6A71B98F4FC8875301C8CE.e.75\")>,\n",
       " <selenium.webdriver.remote.webelement.WebElement (session=\"64cbbdb90ab465ec066e759e24ac181c\", element=\"f.DDDFEAADD7036922A780602F626F66BD.d.0FB1D620AC6A71B98F4FC8875301C8CE.e.76\")>,\n",
       " <selenium.webdriver.remote.webelement.WebElement (session=\"64cbbdb90ab465ec066e759e24ac181c\", element=\"f.DDDFEAADD7036922A780602F626F66BD.d.0FB1D620AC6A71B98F4FC8875301C8CE.e.77\")>]"
      ]
     },
     "execution_count": 208,
     "metadata": {},
     "output_type": "execute_result"
    }
   ],
   "source": [
    "hrefs"
   ]
  },
  {
   "cell_type": "code",
   "execution_count": 209,
   "metadata": {},
   "outputs": [
    {
     "data": {
      "text/plain": [
       "'https://batdongsan.vn/chu-gap-ban-truoc-tet-le-hong-phong-quan-5-ra-mat-tien-duong-15m-r285161'"
      ]
     },
     "execution_count": 209,
     "metadata": {},
     "output_type": "execute_result"
    }
   ],
   "source": [
    "url=hrefs[1].get_attribute(\"href\")\n",
    "url"
   ]
  },
  {
   "cell_type": "code",
   "execution_count": 210,
   "metadata": {},
   "outputs": [],
   "source": [
    "driver.execute_script(\"window.open('');\")\n",
    "driver.switch_to.window(driver.window_handles[1])"
   ]
  },
  {
   "cell_type": "code",
   "execution_count": 211,
   "metadata": {},
   "outputs": [],
   "source": [
    "driver.get(url)"
   ]
  },
  {
   "cell_type": "code",
   "execution_count": 212,
   "metadata": {},
   "outputs": [],
   "source": [
    "data = {}"
   ]
  },
  {
   "cell_type": "code",
   "execution_count": 213,
   "metadata": {},
   "outputs": [],
   "source": [
    "data[\"price\"] = driver.find_element(By.CSS_SELECTOR,value=\".body > .meta > strong\").text"
   ]
  },
  {
   "cell_type": "code",
   "execution_count": 214,
   "metadata": {},
   "outputs": [],
   "source": [
    "data[\"area\"] = driver.find_elements(By.CSS_SELECTOR,value=\".param > .uk-list > li\")[0].text\n",
    "data[\"address\"] = driver.find_elements(By.CSS_SELECTOR,value=\".param > .uk-list > li\")[1].text"
   ]
  },
  {
   "cell_type": "code",
   "execution_count": 215,
   "metadata": {},
   "outputs": [],
   "source": [
    "data[\"customer\"] = driver.find_element(By.CSS_SELECTOR,value=\".header > .name > a\").text\n",
    "data[\"customer_link\"] = driver.find_element(By.CSS_SELECTOR,value=\".header > .name > a\").get_attribute(\"href\")\n",
    "data[\"customer_mail\"] = driver.find_element(By.CSS_SELECTOR,value=\".more.email > a\").get_attribute(\"href\")\n",
    "data[\"customer_phone\"] = driver.find_element(By.CSS_SELECTOR,value=\".more.phone > a\").get_attribute(\"href\")\n",
    "data[\"content\"] = driver.find_element(By.CSS_SELECTOR,value=\".body > .content\").text\n",
    "\n",
    "urls= driver.find_elements(By.CSS_SELECTOR,value=\".uk-slider-container > div > div > .image.cover > a\")\n",
    "data[\"img\"] = [url.get_attribute(\"href\") for url in urls]"
   ]
  },
  {
   "cell_type": "code",
   "execution_count": 216,
   "metadata": {},
   "outputs": [
    {
     "data": {
      "text/plain": [
       "{'price': '7.35 tỷ',\n",
       " 'area': 'Diện tích: 41 m2',\n",
       " 'address': 'Địa chỉ: LÊ HỒNG PHONG PHƯỜNG 2 QUẬN 5',\n",
       " 'customer': 'Phước Hân',\n",
       " 'customer_link': 'https://batdongsan.vn/briandonghan',\n",
       " 'customer_mail': 'mailto:dongphuochan2010@gmail.com',\n",
       " 'customer_phone': 'tel:0849734646',\n",
       " 'content': 'Mô tả:\\n- Diện tích công nhận 41m, thực tế 66m ngang 3.3m.\\n- Kết cấu 2 tầng thông sàn, đang cho thuê 15tr/tháng.\\n- Vị trí trung tâm Quận 5, sát Quận 1, Quận 10.\\n- Pháp lý sạch sẽ sẽ, sổ vuông vức, hoàn công đủ, công chứng ngay.',\n",
       " 'img': ['https://cdn.batdongsan.vn/queue/upload/file/realestate/2023/12/199094/638378/113-172-162-253-58.jpg',\n",
       "  'https://cdn.batdongsan.vn/queue/upload/file/realestate/2023/12/199094/638378/113-172-162-253-581.jpg',\n",
       "  'https://cdn.batdongsan.vn/queue/upload/file/realestate/2023/12/199094/638378/113-172-162-253-582.jpg',\n",
       "  'https://cdn.batdongsan.vn/queue/upload/file/realestate/2023/12/199094/638378/113-172-162-253-58.jpg',\n",
       "  'https://cdn.batdongsan.vn/queue/upload/file/realestate/2023/12/199094/638378/113-172-162-253-581.jpg',\n",
       "  'https://cdn.batdongsan.vn/queue/upload/file/realestate/2023/12/199094/638378/113-172-162-253-582.jpg',\n",
       "  'https://cdn.batdongsan.vn/queue/upload/file/realestate/2023/12/199094/638378/113-172-162-253-58.jpg',\n",
       "  'https://cdn.batdongsan.vn/queue/upload/file/realestate/2023/12/199094/638378/113-172-162-253-581.jpg',\n",
       "  'https://cdn.batdongsan.vn/queue/upload/file/realestate/2023/12/199094/638378/113-172-162-253-582.jpg']}"
      ]
     },
     "execution_count": 216,
     "metadata": {},
     "output_type": "execute_result"
    }
   ],
   "source": [
    "data"
   ]
  },
  {
   "cell_type": "code",
   "execution_count": 217,
   "metadata": {},
   "outputs": [],
   "source": [
    "import pandas as pd"
   ]
  },
  {
   "cell_type": "code",
   "execution_count": 218,
   "metadata": {},
   "outputs": [
    {
     "data": {
      "text/html": [
       "<div>\n",
       "<style scoped>\n",
       "    .dataframe tbody tr th:only-of-type {\n",
       "        vertical-align: middle;\n",
       "    }\n",
       "\n",
       "    .dataframe tbody tr th {\n",
       "        vertical-align: top;\n",
       "    }\n",
       "\n",
       "    .dataframe thead th {\n",
       "        text-align: right;\n",
       "    }\n",
       "</style>\n",
       "<table border=\"1\" class=\"dataframe\">\n",
       "  <thead>\n",
       "    <tr style=\"text-align: right;\">\n",
       "      <th></th>\n",
       "      <th>price</th>\n",
       "      <th>area</th>\n",
       "      <th>address</th>\n",
       "      <th>customer</th>\n",
       "      <th>customer_link</th>\n",
       "      <th>customer_mail</th>\n",
       "      <th>customer_phone</th>\n",
       "      <th>content</th>\n",
       "      <th>img</th>\n",
       "    </tr>\n",
       "  </thead>\n",
       "  <tbody>\n",
       "    <tr>\n",
       "      <th>0</th>\n",
       "      <td>7.35 tỷ</td>\n",
       "      <td>Diện tích: 41 m2</td>\n",
       "      <td>Địa chỉ: LÊ HỒNG PHONG PHƯỜNG 2 QUẬN 5</td>\n",
       "      <td>Phước Hân</td>\n",
       "      <td>https://batdongsan.vn/briandonghan</td>\n",
       "      <td>mailto:dongphuochan2010@gmail.com</td>\n",
       "      <td>tel:0849734646</td>\n",
       "      <td>Mô tả:\\n- Diện tích công nhận 41m, thực tế 66m...</td>\n",
       "      <td>[https://cdn.batdongsan.vn/queue/upload/file/r...</td>\n",
       "    </tr>\n",
       "  </tbody>\n",
       "</table>\n",
       "</div>"
      ],
      "text/plain": [
       "     price              area                                 address  \\\n",
       "0  7.35 tỷ  Diện tích: 41 m2  Địa chỉ: LÊ HỒNG PHONG PHƯỜNG 2 QUẬN 5   \n",
       "\n",
       "    customer                       customer_link  \\\n",
       "0  Phước Hân  https://batdongsan.vn/briandonghan   \n",
       "\n",
       "                       customer_mail  customer_phone  \\\n",
       "0  mailto:dongphuochan2010@gmail.com  tel:0849734646   \n",
       "\n",
       "                                             content  \\\n",
       "0  Mô tả:\\n- Diện tích công nhận 41m, thực tế 66m...   \n",
       "\n",
       "                                                 img  \n",
       "0  [https://cdn.batdongsan.vn/queue/upload/file/r...  "
      ]
     },
     "execution_count": 218,
     "metadata": {},
     "output_type": "execute_result"
    }
   ],
   "source": [
    "df = pd.json_normalize(data)\n",
    "df"
   ]
  },
  {
   "cell_type": "code",
   "execution_count": 219,
   "metadata": {},
   "outputs": [],
   "source": [
    "csv_file = 'data.csv'\n",
    "df.to_csv(csv_file, index=False, encoding='utf-16')"
   ]
  },
  {
   "cell_type": "code",
   "execution_count": null,
   "metadata": {},
   "outputs": [],
   "source": []
  }
 ],
 "metadata": {
  "kernelspec": {
   "display_name": ".venv",
   "language": "python",
   "name": "python3"
  },
  "language_info": {
   "codemirror_mode": {
    "name": "ipython",
    "version": 3
   },
   "file_extension": ".py",
   "mimetype": "text/x-python",
   "name": "python",
   "nbconvert_exporter": "python",
   "pygments_lexer": "ipython3",
   "version": "3.11.0"
  }
 },
 "nbformat": 4,
 "nbformat_minor": 2
}
