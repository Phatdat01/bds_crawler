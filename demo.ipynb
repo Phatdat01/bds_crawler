{
 "cells": [
  {
   "cell_type": "code",
   "execution_count": 1,
   "metadata": {},
   "outputs": [],
   "source": [
    "from selenium import webdriver\n",
    "from selenium.webdriver.common.by import By\n",
    "from selenium.webdriver.common.keys import Keys\n",
    "from selenium.webdriver.chrome.service import Service\n",
    "from selenium.webdriver.support.ui import WebDriverWait\n",
    "from selenium.webdriver.remote.webdriver import WebDriver\n",
    "from selenium.webdriver.remote.webelement import WebElement\n",
    "from selenium.webdriver.support import expected_conditions as EC\n",
    "from selenium.webdriver.edge.service import Service as EdgeService\n",
    "from webdriver_manager.microsoft import EdgeChromiumDriverManager"
   ]
  },
  {
   "cell_type": "code",
   "execution_count": 2,
   "metadata": {},
   "outputs": [],
   "source": [
    "service = Service()\n",
    "options = webdriver.ChromeOptions()\n",
    "driver = webdriver.Chrome(service=service, options=options)"
   ]
  },
  {
   "cell_type": "code",
   "execution_count": 3,
   "metadata": {},
   "outputs": [],
   "source": [
    "driver.get(\"https://batdongsan.vn\")"
   ]
  },
  {
   "cell_type": "code",
   "execution_count": 4,
   "metadata": {},
   "outputs": [],
   "source": [
    "def wait_element(driver: WebDriver, timeout: int, key:str, by:str) -> WebElement:\n",
    "    if by.lower() == \"id\":\n",
    "        condition = EC.visibility_of_element_located((By.ID, key))\n",
    "    elif by.lower() == \"class\":\n",
    "        condition = EC.visibility_of_element_located((By.CLASS_NAME, key))\n",
    "    elif by.lower() == \"name\":\n",
    "        condition = EC.visibility_of_element_located((By.NAME, key))\n",
    "    elif by.lower() == \"tag\":\n",
    "        condition = EC.visibility_of_element_located((By.TAG_NAME, key))\n",
    "    elif by.lower() == \"css\":\n",
    "        condition = EC.visibility_of_element_located((By.CSS_SELECTOR, key))\n",
    "    else:\n",
    "        return []\n",
    "    element = WebDriverWait(driver, timeout).until(condition)\n",
    "    return element"
   ]
  },
  {
   "cell_type": "code",
   "execution_count": 10,
   "metadata": {},
   "outputs": [],
   "source": [
    "search = driver.find_element(By.CSS_SELECTOR, value=\"a > .uk-icon-search\")\n",
    "search.click()"
   ]
  },
  {
   "cell_type": "code",
   "execution_count": null,
   "metadata": {},
   "outputs": [],
   "source": [
    "wait = wait_element(driver=driver,timeout=120,key=\".uk-form-controls > .need > select\", by=\"css\")\n",
    "wait"
   ]
  },
  {
   "cell_type": "code",
   "execution_count": null,
   "metadata": {},
   "outputs": [
    {
     "data": {
      "text/plain": [
       "[<selenium.webdriver.remote.webelement.WebElement (session=\"ec233b82307cd61ebcf3a0f52e5fb2d0\", element=\"f.6E28AAC16F513FCA47CA8AD022E98F41.d.58166E7C53E956E7663BCEB5B7A86829.e.2\")>,\n",
       " <selenium.webdriver.remote.webelement.WebElement (session=\"ec233b82307cd61ebcf3a0f52e5fb2d0\", element=\"f.6E28AAC16F513FCA47CA8AD022E98F41.d.58166E7C53E956E7663BCEB5B7A86829.e.75\")>]"
      ]
     },
     "execution_count": 79,
     "metadata": {},
     "output_type": "execute_result"
    }
   ],
   "source": [
    "wait =driver.find_elements(By.CSS_SELECTOR,value=\".uk-form-controls > .need > select\")\n",
    "wait"
   ]
  },
  {
   "cell_type": "code",
   "execution_count": null,
   "metadata": {},
   "outputs": [],
   "source": [
    "from selenium.webdriver.support.ui import Select"
   ]
  },
  {
   "cell_type": "code",
   "execution_count": null,
   "metadata": {},
   "outputs": [],
   "source": [
    "need_select = Select(wait[0])\n",
    "need_select.select_by_visible_text(\"Bán\")"
   ]
  },
  {
   "cell_type": "code",
   "execution_count": null,
   "metadata": {},
   "outputs": [],
   "source": [
    "wait =driver.find_elements(By.CSS_SELECTOR,value=\".uk-form-controls > .city > select\")\n",
    "need_select = Select(wait[0])\n",
    "need_select.select_by_visible_text(\"Long An\")"
   ]
  },
  {
   "cell_type": "code",
   "execution_count": null,
   "metadata": {},
   "outputs": [],
   "source": [
    "search = driver.find_elements(By.CSS_SELECTOR, value=\".button > .uk-button\")\n",
    "search[0].click()"
   ]
  },
  {
   "cell_type": "code",
   "execution_count": 4,
   "metadata": {},
   "outputs": [
    {
     "ename": "IndexError",
     "evalue": "list index out of range",
     "output_type": "error",
     "traceback": [
      "\u001b[1;31m---------------------------------------------------------------------------\u001b[0m",
      "\u001b[1;31mIndexError\u001b[0m                                Traceback (most recent call last)",
      "Cell \u001b[1;32mIn[4], line 1\u001b[0m\n\u001b[1;32m----> 1\u001b[0m a \u001b[38;5;241m=\u001b[39m \u001b[43mdriver\u001b[49m\u001b[38;5;241;43m.\u001b[39;49m\u001b[43mfind_elements\u001b[49m\u001b[43m(\u001b[49m\u001b[43mBy\u001b[49m\u001b[38;5;241;43m.\u001b[39;49m\u001b[43mCLASS_NAME\u001b[49m\u001b[43m,\u001b[49m\u001b[43mvalue\u001b[49m\u001b[38;5;241;43m=\u001b[39;49m\u001b[38;5;124;43m\"\u001b[39;49m\u001b[38;5;124;43mdatalist\u001b[39;49m\u001b[38;5;124;43m\"\u001b[39;49m\u001b[43m)\u001b[49m\u001b[43m[\u001b[49m\u001b[38;5;241;43m0\u001b[39;49m\u001b[43m]\u001b[49m\n",
      "\u001b[1;31mIndexError\u001b[0m: list index out of range"
     ]
    }
   ],
   "source": [
    "a = driver.find_elements(By.CLASS_NAME,value=\"datalist\")[0]"
   ]
  },
  {
   "cell_type": "code",
   "execution_count": 13,
   "metadata": {},
   "outputs": [],
   "source": [
    "hrefs = a.find_elements(By.XPATH, './div/div/div/div/a')"
   ]
  },
  {
   "cell_type": "code",
   "execution_count": 14,
   "metadata": {},
   "outputs": [],
   "source": [
    "hrefs= hrefs[:5]"
   ]
  },
  {
   "cell_type": "code",
   "execution_count": 15,
   "metadata": {},
   "outputs": [
    {
     "data": {
      "text/plain": [
       "[<selenium.webdriver.remote.webelement.WebElement (session=\"3d4ae78a2aab58ab284e133e46b7155a\", element=\"f.863CFFE2F31B8F04CD41454FC9EE1B67.d.2B78AE8B561F492FEDBFBD09310034A1.e.896\")>,\n",
       " <selenium.webdriver.remote.webelement.WebElement (session=\"3d4ae78a2aab58ab284e133e46b7155a\", element=\"f.863CFFE2F31B8F04CD41454FC9EE1B67.d.2B78AE8B561F492FEDBFBD09310034A1.e.899\")>,\n",
       " <selenium.webdriver.remote.webelement.WebElement (session=\"3d4ae78a2aab58ab284e133e46b7155a\", element=\"f.863CFFE2F31B8F04CD41454FC9EE1B67.d.2B78AE8B561F492FEDBFBD09310034A1.e.903\")>,\n",
       " <selenium.webdriver.remote.webelement.WebElement (session=\"3d4ae78a2aab58ab284e133e46b7155a\", element=\"f.863CFFE2F31B8F04CD41454FC9EE1B67.d.2B78AE8B561F492FEDBFBD09310034A1.e.908\")>,\n",
       " <selenium.webdriver.remote.webelement.WebElement (session=\"3d4ae78a2aab58ab284e133e46b7155a\", element=\"f.863CFFE2F31B8F04CD41454FC9EE1B67.d.2B78AE8B561F492FEDBFBD09310034A1.e.911\")>]"
      ]
     },
     "execution_count": 15,
     "metadata": {},
     "output_type": "execute_result"
    }
   ],
   "source": [
    "hrefs"
   ]
  },
  {
   "cell_type": "code",
   "execution_count": 16,
   "metadata": {},
   "outputs": [],
   "source": [
    "driver.switch_to.window(driver.window_handles[1])"
   ]
  },
  {
   "cell_type": "code",
   "execution_count": 26,
   "metadata": {},
   "outputs": [
    {
     "data": {
      "text/plain": [
       "'https://batdongsan.vn/can-ban-day-tro-113m-vuong-1-ty-850-co-thuong-luong-r284886'"
      ]
     },
     "execution_count": 26,
     "metadata": {},
     "output_type": "execute_result"
    }
   ],
   "source": [
    "url=hrefs[0].get_attribute(\"href\")\n",
    "url"
   ]
  },
  {
   "cell_type": "code",
   "execution_count": 88,
   "metadata": {},
   "outputs": [],
   "source": [
    "driver.get(url)"
   ]
  },
  {
   "cell_type": "code",
   "execution_count": 89,
   "metadata": {},
   "outputs": [],
   "source": [
    "data = {}"
   ]
  },
  {
   "cell_type": "code",
   "execution_count": 90,
   "metadata": {},
   "outputs": [],
   "source": [
    "data[\"price\"] = driver.find_element(By.CSS_SELECTOR,value=\".body > .meta > strong\").text"
   ]
  },
  {
   "cell_type": "code",
   "execution_count": 91,
   "metadata": {},
   "outputs": [],
   "source": [
    "data[\"area\"] = driver.find_elements(By.CSS_SELECTOR,value=\".param > .uk-list > li\")[0].text\n",
    "data[\"address\"] = driver.find_elements(By.CSS_SELECTOR,value=\".param > .uk-list > li\")[1].text"
   ]
  },
  {
   "cell_type": "code",
   "execution_count": 114,
   "metadata": {},
   "outputs": [],
   "source": [
    "data[\"customer\"] = driver.find_element(By.CSS_SELECTOR,value=\".header > .name > a\").text\n",
    "data[\"customer_link\"] = driver.find_element(By.CSS_SELECTOR,value=\".header > .name > a\").get_attribute(\"href\")\n",
    "data[\"customer_mail\"] = driver.find_element(By.CSS_SELECTOR,value=\".more.email > a\").get_attribute(\"href\")\n",
    "data[\"customer_phone\"] = driver.find_element(By.CSS_SELECTOR,value=\".more.phone > a\").get_attribute(\"href\")\n",
    "data[\"content\"] = driver.find_element(By.CSS_SELECTOR,value=\".body > .content\").text\n",
    "\n",
    "urls= driver.find_elements(By.CSS_SELECTOR,value=\".uk-slider-container > div > div > .image.cover > a\")\n",
    "data[\"img\"] = [url.get_attribute(\"href\") for url in urls]"
   ]
  },
  {
   "cell_type": "code",
   "execution_count": 123,
   "metadata": {},
   "outputs": [
    {
     "data": {
      "text/plain": [
       "{'price': 'Thỏa thuận',\n",
       " 'area': 'Diện tích: 113 m2',\n",
       " 'address': 'Địa chỉ: Ấp 3, xã long định, huyện cần đước, tỉnh long an.',\n",
       " 'customer': 'ANH PHÓ',\n",
       " 'customer_link': 'https://batdongsan.vn/anhpho77',\n",
       " 'customer_mail': 'mailto:fuguiying240804@gmail.com',\n",
       " 'customer_phone': 'tel:0774961521',\n",
       " 'content': 'Cần bán dãy trọ 113m vuông. 1 tỷ 850 có thương lượng\\nCó sẵn 7 phòng trọ đã có cho thuê full\\nGiá thuê 1 phòng từ 800 - 1tr/tháng.\\nKhách mua đầu tư, thiện chí mua call trực tiếp nhé.\\n0774.961.521 (Ms.Anh)',\n",
       " 'img': ['https://cdn.batdongsan.vn/queue/upload/file/realestate/2023/12/198744/630832/103-199-33-3-received-1053733785809066.jpeg',\n",
       "  'https://cdn.batdongsan.vn/queue/upload/file/realestate/2023/12/198744/630832/103-199-33-3-received-730060648660019.jpeg',\n",
       "  'https://cdn.batdongsan.vn/queue/upload/file/realestate/2023/12/198744/630832/103-199-33-3-received-657084786500783.jpeg',\n",
       "  'https://cdn.batdongsan.vn/queue/upload/file/realestate/2023/12/198744/630832/103-199-33-3-received-366608019092138.jpeg',\n",
       "  'https://cdn.batdongsan.vn/queue/upload/file/realestate/2023/12/198744/630832/103-199-33-3-received-4439151852976804.jpeg',\n",
       "  'https://cdn.batdongsan.vn/queue/upload/file/realestate/2023/12/198744/630832/103-199-33-3-received-1403559086905331.jpeg',\n",
       "  'https://cdn.batdongsan.vn/queue/upload/file/realestate/2023/12/198744/630832/103-199-33-3-received-307058675623674.jpeg',\n",
       "  'https://cdn.batdongsan.vn/queue/upload/file/realestate/2023/12/198744/630832/103-199-33-3-received-1053733785809066.jpeg',\n",
       "  'https://cdn.batdongsan.vn/queue/upload/file/realestate/2023/12/198744/630832/103-199-33-3-received-730060648660019.jpeg',\n",
       "  'https://cdn.batdongsan.vn/queue/upload/file/realestate/2023/12/198744/630832/103-199-33-3-received-657084786500783.jpeg',\n",
       "  'https://cdn.batdongsan.vn/queue/upload/file/realestate/2023/12/198744/630832/103-199-33-3-received-366608019092138.jpeg',\n",
       "  'https://cdn.batdongsan.vn/queue/upload/file/realestate/2023/12/198744/630832/103-199-33-3-received-4439151852976804.jpeg',\n",
       "  'https://cdn.batdongsan.vn/queue/upload/file/realestate/2023/12/198744/630832/103-199-33-3-received-1403559086905331.jpeg',\n",
       "  'https://cdn.batdongsan.vn/queue/upload/file/realestate/2023/12/198744/630832/103-199-33-3-received-307058675623674.jpeg',\n",
       "  'https://cdn.batdongsan.vn/queue/upload/file/realestate/2023/12/198744/630832/103-199-33-3-received-1053733785809066.jpeg',\n",
       "  'https://cdn.batdongsan.vn/queue/upload/file/realestate/2023/12/198744/630832/103-199-33-3-received-730060648660019.jpeg',\n",
       "  'https://cdn.batdongsan.vn/queue/upload/file/realestate/2023/12/198744/630832/103-199-33-3-received-657084786500783.jpeg',\n",
       "  'https://cdn.batdongsan.vn/queue/upload/file/realestate/2023/12/198744/630832/103-199-33-3-received-366608019092138.jpeg',\n",
       "  'https://cdn.batdongsan.vn/queue/upload/file/realestate/2023/12/198744/630832/103-199-33-3-received-4439151852976804.jpeg',\n",
       "  'https://cdn.batdongsan.vn/queue/upload/file/realestate/2023/12/198744/630832/103-199-33-3-received-1403559086905331.jpeg',\n",
       "  'https://cdn.batdongsan.vn/queue/upload/file/realestate/2023/12/198744/630832/103-199-33-3-received-307058675623674.jpeg']}"
      ]
     },
     "execution_count": 123,
     "metadata": {},
     "output_type": "execute_result"
    }
   ],
   "source": [
    "data"
   ]
  },
  {
   "cell_type": "code",
   "execution_count": 125,
   "metadata": {},
   "outputs": [],
   "source": [
    "import pandas as pd"
   ]
  },
  {
   "cell_type": "code",
   "execution_count": 132,
   "metadata": {},
   "outputs": [
    {
     "data": {
      "text/html": [
       "<div>\n",
       "<style scoped>\n",
       "    .dataframe tbody tr th:only-of-type {\n",
       "        vertical-align: middle;\n",
       "    }\n",
       "\n",
       "    .dataframe tbody tr th {\n",
       "        vertical-align: top;\n",
       "    }\n",
       "\n",
       "    .dataframe thead th {\n",
       "        text-align: right;\n",
       "    }\n",
       "</style>\n",
       "<table border=\"1\" class=\"dataframe\">\n",
       "  <thead>\n",
       "    <tr style=\"text-align: right;\">\n",
       "      <th></th>\n",
       "      <th>price</th>\n",
       "      <th>area</th>\n",
       "      <th>address</th>\n",
       "      <th>customer</th>\n",
       "      <th>customer_link</th>\n",
       "      <th>customer_mail</th>\n",
       "      <th>customer_phone</th>\n",
       "      <th>content</th>\n",
       "      <th>img</th>\n",
       "    </tr>\n",
       "  </thead>\n",
       "  <tbody>\n",
       "    <tr>\n",
       "      <th>0</th>\n",
       "      <td>Thỏa thuận</td>\n",
       "      <td>Diện tích: 113 m2</td>\n",
       "      <td>Địa chỉ: Ấp 3, xã long định, huyện cần đước, t...</td>\n",
       "      <td>ANH PHÓ</td>\n",
       "      <td>https://batdongsan.vn/anhpho77</td>\n",
       "      <td>mailto:fuguiying240804@gmail.com</td>\n",
       "      <td>tel:0774961521</td>\n",
       "      <td>Cần bán dãy trọ 113m vuông. 1 tỷ 850 có thương...</td>\n",
       "      <td>[https://cdn.batdongsan.vn/queue/upload/file/r...</td>\n",
       "    </tr>\n",
       "  </tbody>\n",
       "</table>\n",
       "</div>"
      ],
      "text/plain": [
       "        price               area  \\\n",
       "0  Thỏa thuận  Diện tích: 113 m2   \n",
       "\n",
       "                                             address customer  \\\n",
       "0  Địa chỉ: Ấp 3, xã long định, huyện cần đước, t...  ANH PHÓ   \n",
       "\n",
       "                    customer_link                     customer_mail  \\\n",
       "0  https://batdongsan.vn/anhpho77  mailto:fuguiying240804@gmail.com   \n",
       "\n",
       "   customer_phone                                            content  \\\n",
       "0  tel:0774961521  Cần bán dãy trọ 113m vuông. 1 tỷ 850 có thương...   \n",
       "\n",
       "                                                 img  \n",
       "0  [https://cdn.batdongsan.vn/queue/upload/file/r...  "
      ]
     },
     "execution_count": 132,
     "metadata": {},
     "output_type": "execute_result"
    }
   ],
   "source": [
    "df = pd.json_normalize(data)\n",
    "df"
   ]
  },
  {
   "cell_type": "code",
   "execution_count": 137,
   "metadata": {},
   "outputs": [],
   "source": [
    "csv_file = 'data.csv'\n",
    "df.to_csv(csv_file, index=False, encoding='utf-16')"
   ]
  },
  {
   "cell_type": "code",
   "execution_count": null,
   "metadata": {},
   "outputs": [],
   "source": []
  }
 ],
 "metadata": {
  "kernelspec": {
   "display_name": ".venv",
   "language": "python",
   "name": "python3"
  },
  "language_info": {
   "codemirror_mode": {
    "name": "ipython",
    "version": 3
   },
   "file_extension": ".py",
   "mimetype": "text/x-python",
   "name": "python",
   "nbconvert_exporter": "python",
   "pygments_lexer": "ipython3",
   "version": "3.11.0"
  }
 },
 "nbformat": 4,
 "nbformat_minor": 2
}
